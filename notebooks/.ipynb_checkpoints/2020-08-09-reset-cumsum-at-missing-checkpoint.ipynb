{
 "cells": [
  {
   "cell_type": "markdown",
   "metadata": {},
   "source": [
    "# Reset cumsum counter at missing values\n",
    "\n",
    "<!-- > \"Awesome summary\" -->\n",
    "\n",
    "- toc:true- branch: master- badges: true- comments: true\n",
    "- author: Fabian\n",
    "- categories: [pandas]"
   ]
  },
  {
   "cell_type": "markdown",
   "metadata": {},
   "source": [
    "A problem I've occationally run into is how to reset a cumsum counter at missing values. \n",
    "\n",
    "Vie the excellent [Pandas cookbook](https://pandas.pydata.org/docs/user_guide/cookbook.html), the below two approaches solve the problem using Numpy and Pandas."
   ]
  },
  {
   "cell_type": "markdown",
   "metadata": {},
   "source": [
    "## Using Numpy\n",
    "\n",
    "From [here](https://stackoverflow.com/a/18197211/13666841)"
   ]
  },
  {
   "cell_type": "code",
   "execution_count": 50,
   "metadata": {},
   "outputs": [
    {
     "data": {
      "text/plain": [
       "array([1., 2., 3., 0., 1., 2., 3., 4., 0., 1.])"
      ]
     },
     "execution_count": 50,
     "metadata": {},
     "output_type": "execute_result"
    }
   ],
   "source": [
    "import numpy as np\n",
    "\n",
    "v = np.array([1., 1., 1., np.nan, 1., 1., 1., 1., np.nan, 1.])\n",
    "isna = np.isnan(v)\n",
    "notna = ~isna\n",
    "\n",
    "# replace missing values with cumsum up to this point\n",
    "cumsum = np.cumsum(notna)\n",
    "diffs = np.diff(np.concatenate(([0], cumsum[isna])))\n",
    "v[isna] = -diffs\n",
    "\n",
    "np.cumsum(v)"
   ]
  },
  {
   "cell_type": "markdown",
   "metadata": {},
   "source": [
    "## Using Pandas\n",
    "\n",
    "From [here](https://stackoverflow.com/a/36436195/13666841), has the additional benefit of also working with values other than 1."
   ]
  },
  {
   "cell_type": "code",
   "execution_count": 63,
   "metadata": {},
   "outputs": [
    {
     "data": {
      "text/plain": [
       "0    1.0\n",
       "1    4.0\n",
       "2    5.0\n",
       "3    0.0\n",
       "4    1.0\n",
       "5    2.0\n",
       "6    3.0\n",
       "7    4.0\n",
       "8    0.0\n",
       "9    1.0\n",
       "dtype: float64"
      ]
     },
     "execution_count": 63,
     "metadata": {},
     "output_type": "execute_result"
    }
   ],
   "source": [
    "import pandas as pd\n",
    "\n",
    "s = pd.Series([1., 3., 1., np.nan, 1., 1., 1., 1., np.nan, 1.])\n",
    "\n",
    "cumsum = s.cumsum().ffill()\n",
    "reset = -cumsum[s.isna()].diff().fillna(cumsum)\n",
    "\n",
    "result = s.where(s.notna(), reset).cumsum()\n",
    "result"
   ]
  }
 ],
 "metadata": {
  "kernelspec": {
   "display_name": "habits",
   "language": "python",
   "name": "habits"
  },
  "language_info": {
   "codemirror_mode": {
    "name": "ipython",
    "version": 3
   },
   "file_extension": ".py",
   "mimetype": "text/x-python",
   "name": "python",
   "nbconvert_exporter": "python",
   "pygments_lexer": "ipython3",
   "version": "3.7.7"
  }
 },
 "nbformat": 4,
 "nbformat_minor": 4
}
