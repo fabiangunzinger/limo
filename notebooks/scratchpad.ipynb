{
 "cells": [
  {
   "cell_type": "code",
   "execution_count": 109,
   "metadata": {},
   "outputs": [],
   "source": [
    "import os \n",
    "import pandas as pd\n",
    "\n",
    "import plotly.express as px\n",
    "from IPython.display import HTML\n",
    "from plotly.subplots import make_subplots\n",
    "import plotly.graph_objects as go\n",
    "\n",
    "pd.set_option('display.max_columns', None)\n",
    "pd.set_option('display.max_rows', None)\n",
    "\n",
    "\n",
    "ROOTDIR = os.path.dirname(os.getcwd())\n",
    "DATADIR = os.path.join(ROOTDIR, 'data')\n",
    "\n",
    "\n",
    "def merch(df, merch):\n",
    "    return df[df.merch.str.contains(merch, na=False)]\n",
    "\n",
    "def cat(df, cat):\n",
    "    return df[df.cat.str.contains(cat, na=False)]\n",
    "\n",
    "def month(df, ym):\n",
    "    return df[df.ym.eq(ym)]"
   ]
  },
  {
   "cell_type": "code",
   "execution_count": 112,
   "metadata": {},
   "outputs": [],
   "source": [
    "df = pd.read_parquet(os.path.join(DATADIR, 'clean.parquet'))\n",
    "\n",
    "jul = month(df, '2020-07')\n",
    "aug = month(df, '2020-08')"
   ]
  },
  {
   "cell_type": "code",
   "execution_count": 117,
   "metadata": {},
   "outputs": [
    {
     "data": {
      "text/plain": [
       "-635.1399999999999"
      ]
     },
     "execution_count": 117,
     "metadata": {},
     "output_type": "execute_result"
    }
   ],
   "source": [
    "cat(aug, 'groc').amount.sum()"
   ]
  },
  {
   "cell_type": "code",
   "execution_count": 106,
   "metadata": {},
   "outputs": [
    {
     "data": {
      "text/html": [
       "<div>\n",
       "<style scoped>\n",
       "    .dataframe tbody tr th:only-of-type {\n",
       "        vertical-align: middle;\n",
       "    }\n",
       "\n",
       "    .dataframe tbody tr th {\n",
       "        vertical-align: top;\n",
       "    }\n",
       "\n",
       "    .dataframe thead th {\n",
       "        text-align: right;\n",
       "    }\n",
       "</style>\n",
       "<table border=\"1\" class=\"dataframe\">\n",
       "  <thead>\n",
       "    <tr style=\"text-align: right;\">\n",
       "      <th></th>\n",
       "      <th>date</th>\n",
       "      <th>desc</th>\n",
       "      <th>cat</th>\n",
       "      <th>amount</th>\n",
       "      <th>merch</th>\n",
       "      <th>note</th>\n",
       "      <th>id</th>\n",
       "      <th>split</th>\n",
       "      <th>ym</th>\n",
       "    </tr>\n",
       "  </thead>\n",
       "  <tbody>\n",
       "    <tr>\n",
       "      <th>2348</th>\n",
       "      <td>2020-08-01 00:02:13</td>\n",
       "      <td>tfl travel charge      tfl.gov.uk/cp gbr</td>\n",
       "      <td>transport</td>\n",
       "      <td>-3.0</td>\n",
       "      <td>tfl travel charge</td>\n",
       "      <td>None</td>\n",
       "      <td>tx_00009xf2uoxaf4qkaqd1d3</td>\n",
       "      <td>None</td>\n",
       "      <td>2020-08-01</td>\n",
       "    </tr>\n",
       "    <tr>\n",
       "      <th>2377</th>\n",
       "      <td>2020-08-08 00:01:32</td>\n",
       "      <td>tfl travel charge      tfl.gov.uk/cp gbr</td>\n",
       "      <td>transport</td>\n",
       "      <td>-3.0</td>\n",
       "      <td>tfl travel charge</td>\n",
       "      <td>None</td>\n",
       "      <td>tx_00009xtyrzhg1rwlypkaij</td>\n",
       "      <td>None</td>\n",
       "      <td>2020-08-01</td>\n",
       "    </tr>\n",
       "    <tr>\n",
       "      <th>2380</th>\n",
       "      <td>2020-08-08 08:25:38</td>\n",
       "      <td>tfl cycle hire         london        gbr</td>\n",
       "      <td>transport</td>\n",
       "      <td>-4.0</td>\n",
       "      <td>tfl santander cycles</td>\n",
       "      <td>None</td>\n",
       "      <td>tx_00009xuhqpza1y3ouw78wp</td>\n",
       "      <td>None</td>\n",
       "      <td>2020-08-01</td>\n",
       "    </tr>\n",
       "    <tr>\n",
       "      <th>2397</th>\n",
       "      <td>2020-08-14 00:01:25</td>\n",
       "      <td>tfl travel charge      tfl.gov.uk/cp gbr</td>\n",
       "      <td>transport</td>\n",
       "      <td>-3.0</td>\n",
       "      <td>tfl travel charge</td>\n",
       "      <td>None</td>\n",
       "      <td>tx_00009y5zw1gqukvhjexeyf</td>\n",
       "      <td>None</td>\n",
       "      <td>2020-08-01</td>\n",
       "    </tr>\n",
       "    <tr>\n",
       "      <th>2410</th>\n",
       "      <td>2020-08-17 12:44:06</td>\n",
       "      <td>tfl travel charge      tfl.gov.uk/cp gbr</td>\n",
       "      <td>transport</td>\n",
       "      <td>-1.5</td>\n",
       "      <td>tfl travel charge</td>\n",
       "      <td>None</td>\n",
       "      <td>tx_00009ydj7hnwa2oxva52v0</td>\n",
       "      <td>None</td>\n",
       "      <td>2020-08-01</td>\n",
       "    </tr>\n",
       "    <tr>\n",
       "      <th>2415</th>\n",
       "      <td>2020-08-20 00:01:44</td>\n",
       "      <td>tfl travel charge      tfl.gov.uk/cp gbr</td>\n",
       "      <td>transport</td>\n",
       "      <td>-3.0</td>\n",
       "      <td>tfl travel charge</td>\n",
       "      <td>None</td>\n",
       "      <td>tx_00009yiqczfzpigy5arsmp</td>\n",
       "      <td>None</td>\n",
       "      <td>2020-08-01</td>\n",
       "    </tr>\n",
       "  </tbody>\n",
       "</table>\n",
       "</div>"
      ],
      "text/plain": [
       "                    date                                      desc        cat  \\\n",
       "2348 2020-08-01 00:02:13  tfl travel charge      tfl.gov.uk/cp gbr  transport   \n",
       "2377 2020-08-08 00:01:32  tfl travel charge      tfl.gov.uk/cp gbr  transport   \n",
       "2380 2020-08-08 08:25:38  tfl cycle hire         london        gbr  transport   \n",
       "2397 2020-08-14 00:01:25  tfl travel charge      tfl.gov.uk/cp gbr  transport   \n",
       "2410 2020-08-17 12:44:06  tfl travel charge      tfl.gov.uk/cp gbr  transport   \n",
       "2415 2020-08-20 00:01:44  tfl travel charge      tfl.gov.uk/cp gbr  transport   \n",
       "\n",
       "      amount                 merch  note                         id split  \\\n",
       "2348    -3.0     tfl travel charge  None  tx_00009xf2uoxaf4qkaqd1d3  None   \n",
       "2377    -3.0     tfl travel charge  None  tx_00009xtyrzhg1rwlypkaij  None   \n",
       "2380    -4.0  tfl santander cycles  None  tx_00009xuhqpza1y3ouw78wp  None   \n",
       "2397    -3.0     tfl travel charge  None  tx_00009y5zw1gqukvhjexeyf  None   \n",
       "2410    -1.5     tfl travel charge  None  tx_00009ydj7hnwa2oxva52v0  None   \n",
       "2415    -3.0     tfl travel charge  None  tx_00009yiqczfzpigy5arsmp  None   \n",
       "\n",
       "             ym  \n",
       "2348 2020-08-01  \n",
       "2377 2020-08-01  \n",
       "2380 2020-08-01  \n",
       "2397 2020-08-01  \n",
       "2410 2020-08-01  \n",
       "2415 2020-08-01  "
      ]
     },
     "execution_count": 106,
     "metadata": {},
     "output_type": "execute_result"
    }
   ],
   "source": [
    "merch(month(df, '2020-08'), 'tfl')"
   ]
  },
  {
   "cell_type": "code",
   "execution_count": 118,
   "metadata": {},
   "outputs": [
    {
     "data": {
      "text/plain": [
       "transport        497\n",
       "eating out       299\n",
       "general          204\n",
       "groceries        192\n",
       "shopping         108\n",
       "bills             78\n",
       "expenses          65\n",
       "holidays          58\n",
       "entertainment     53\n",
       "personal care     52\n",
       "finances          18\n",
       "health             4\n",
       "subscriptions      4\n",
       "transfer           4\n",
       "fees               1\n",
       "income             1\n",
       "Name: cat, dtype: int64"
      ]
     },
     "execution_count": 118,
     "metadata": {},
     "output_type": "execute_result"
    }
   ],
   "source": [
    "df.cat.value_counts()"
   ]
  },
  {
   "cell_type": "code",
   "execution_count": 132,
   "metadata": {},
   "outputs": [
    {
     "ename": "SyntaxError",
     "evalue": "lambda cannot contain assignment (<ipython-input-132-120d53d72355>, line 6)",
     "output_type": "error",
     "traceback": [
      "\u001b[0;36m  File \u001b[0;32m\"<ipython-input-132-120d53d72355>\"\u001b[0;36m, line \u001b[0;32m6\u001b[0m\n\u001b[0;31m    return df.apply(lambda row: row.pcat = 'he' if row.amount.eq(200) else row, axis=1)\u001b[0m\n\u001b[0m                   ^\u001b[0m\n\u001b[0;31mSyntaxError\u001b[0m\u001b[0;31m:\u001b[0m lambda cannot contain assignment\n"
     ]
    }
   ],
   "source": [
    "def make_parent_cats(df):\n",
    "\n",
    "    mains = 'income bills health groceries holidays'.split()\n",
    "    \n",
    "    df['pcat'] = 'other'\n",
    "    return df.apply(lambda row: row.pcat = 'he' if row.amount.eq(200) else row, axis=1)\n",
    "\n",
    "make_parent_cats(df)"
   ]
  },
  {
   "cell_type": "markdown",
   "metadata": {},
   "source": [
    "# Resources\n",
    "\n",
    "- Using Plotly for Jupyter Lab and Fastpages ([link](https://colab.research.google.com/github/binnisb/blog/blob/master/_notebooks/2020-04-02-Plotly-in-lab.ipynb#scrollTo=TWW5ogvQPEk1))"
   ]
  },
  {
   "cell_type": "code",
   "execution_count": null,
   "metadata": {},
   "outputs": [],
   "source": []
  }
 ],
 "metadata": {
  "kernelspec": {
   "display_name": "habits",
   "language": "python",
   "name": "habits"
  },
  "language_info": {
   "codemirror_mode": {
    "name": "ipython",
    "version": 3
   },
   "file_extension": ".py",
   "mimetype": "text/x-python",
   "name": "python",
   "nbconvert_exporter": "python",
   "pygments_lexer": "ipython3",
   "version": "3.7.7"
  }
 },
 "nbformat": 4,
 "nbformat_minor": 4
}
