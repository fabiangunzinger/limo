{
 "cells": [
  {
   "cell_type": "code",
   "execution_count": 1,
   "metadata": {},
   "outputs": [],
   "source": [
    "import os \n",
    "import pandas as pd\n",
    "\n",
    "import plotly.express as px\n",
    "from IPython.display import HTML\n",
    "from plotly.subplots import make_subplots\n",
    "import plotly.graph_objects as go\n",
    "\n",
    "pd.set_option('display.max_columns', None)\n",
    "pd.set_option('display.max_rows', None)\n",
    "\n",
    "\n",
    "ROOTDIR = os.path.dirname(os.getcwd())\n",
    "DATADIR = os.path.join(ROOTDIR, 'data')"
   ]
  },
  {
   "cell_type": "code",
   "execution_count": 23,
   "metadata": {},
   "outputs": [],
   "source": [
    "df = pd.read_parquet(os.path.join(DATADIR, 'clean.parquet'))"
   ]
  },
  {
   "cell_type": "code",
   "execution_count": 24,
   "metadata": {},
   "outputs": [
    {
     "data": {
      "text/html": [
       "<div>\n",
       "<style scoped>\n",
       "    .dataframe tbody tr th:only-of-type {\n",
       "        vertical-align: middle;\n",
       "    }\n",
       "\n",
       "    .dataframe tbody tr th {\n",
       "        vertical-align: top;\n",
       "    }\n",
       "\n",
       "    .dataframe thead th {\n",
       "        text-align: right;\n",
       "    }\n",
       "</style>\n",
       "<table border=\"1\" class=\"dataframe\">\n",
       "  <thead>\n",
       "    <tr style=\"text-align: right;\">\n",
       "      <th></th>\n",
       "      <th>date</th>\n",
       "      <th>desc</th>\n",
       "      <th>cat</th>\n",
       "      <th>amount</th>\n",
       "      <th>merch</th>\n",
       "      <th>note</th>\n",
       "      <th>id</th>\n",
       "      <th>split</th>\n",
       "      <th>ym</th>\n",
       "    </tr>\n",
       "  </thead>\n",
       "  <tbody>\n",
       "    <tr>\n",
       "      <th>0</th>\n",
       "      <td>2018-11-11 11:45:52</td>\n",
       "      <td>fgtofg</td>\n",
       "      <td>general</td>\n",
       "      <td>200.00</td>\n",
       "      <td>gunzinger</td>\n",
       "      <td>fgtofg</td>\n",
       "      <td>tx_00009cegw7obs9iqehznxb</td>\n",
       "      <td>None</td>\n",
       "      <td>2018-11-01</td>\n",
       "    </tr>\n",
       "    <tr>\n",
       "      <th>1</th>\n",
       "      <td>2018-11-11 11:52:40</td>\n",
       "      <td>p9811069</td>\n",
       "      <td>general</td>\n",
       "      <td>-200.00</td>\n",
       "      <td>fabian gunzinger</td>\n",
       "      <td>p9811069</td>\n",
       "      <td>tx_00009ceh7gjc93f2z8ej7z</td>\n",
       "      <td>None</td>\n",
       "      <td>2018-11-01</td>\n",
       "    </tr>\n",
       "    <tr>\n",
       "      <th>2</th>\n",
       "      <td>2018-11-18 16:19:23</td>\n",
       "      <td>waitrose               london        gbr</td>\n",
       "      <td>groceries</td>\n",
       "      <td>-2.99</td>\n",
       "      <td>waitrose &amp; partners</td>\n",
       "      <td>None</td>\n",
       "      <td>tx_00009ctawup6crg1smr9ul</td>\n",
       "      <td>None</td>\n",
       "      <td>2018-11-01</td>\n",
       "    </tr>\n",
       "    <tr>\n",
       "      <th>3</th>\n",
       "      <td>2018-11-18 16:21:02</td>\n",
       "      <td>tesco stores 5103      hammersmith   gbr</td>\n",
       "      <td>groceries</td>\n",
       "      <td>-5.05</td>\n",
       "      <td>tesco</td>\n",
       "      <td>None</td>\n",
       "      <td>tx_00009ctafeypofhtytdfab</td>\n",
       "      <td>None</td>\n",
       "      <td>2018-11-01</td>\n",
       "    </tr>\n",
       "    <tr>\n",
       "      <th>4</th>\n",
       "      <td>2018-11-19 05:35:02</td>\n",
       "      <td>tfl travel charge      tfl.gov.uk/cp gbr</td>\n",
       "      <td>transport</td>\n",
       "      <td>-12.40</td>\n",
       "      <td>transport for london</td>\n",
       "      <td>travel charge for monday, 19 nov</td>\n",
       "      <td>tx_00009cujx410rx7cf2wo0v</td>\n",
       "      <td>None</td>\n",
       "      <td>2018-11-01</td>\n",
       "    </tr>\n",
       "  </tbody>\n",
       "</table>\n",
       "</div>"
      ],
      "text/plain": [
       "                 date                                      desc        cat  \\\n",
       "0 2018-11-11 11:45:52                                    fgtofg    general   \n",
       "1 2018-11-11 11:52:40                                  p9811069    general   \n",
       "2 2018-11-18 16:19:23  waitrose               london        gbr  groceries   \n",
       "3 2018-11-18 16:21:02  tesco stores 5103      hammersmith   gbr  groceries   \n",
       "4 2018-11-19 05:35:02  tfl travel charge      tfl.gov.uk/cp gbr  transport   \n",
       "\n",
       "   amount                 merch                              note  \\\n",
       "0  200.00             gunzinger                            fgtofg   \n",
       "1 -200.00      fabian gunzinger                          p9811069   \n",
       "2   -2.99   waitrose & partners                              None   \n",
       "3   -5.05                 tesco                              None   \n",
       "4  -12.40  transport for london  travel charge for monday, 19 nov   \n",
       "\n",
       "                          id split         ym  \n",
       "0  tx_00009cegw7obs9iqehznxb  None 2018-11-01  \n",
       "1  tx_00009ceh7gjc93f2z8ej7z  None 2018-11-01  \n",
       "2  tx_00009ctawup6crg1smr9ul  None 2018-11-01  \n",
       "3  tx_00009ctafeypofhtytdfab  None 2018-11-01  \n",
       "4  tx_00009cujx410rx7cf2wo0v  None 2018-11-01  "
      ]
     },
     "execution_count": 24,
     "metadata": {},
     "output_type": "execute_result"
    }
   ],
   "source": [
    "df.head()"
   ]
  },
  {
   "cell_type": "code",
   "execution_count": 70,
   "metadata": {},
   "outputs": [
    {
     "data": {
      "application/vnd.plotly.v1+json": {
       "config": {
        "plotlyServerURL": "https://plot.ly"
       },
       "data": [
        {
         "alignmentgroup": "True",
         "hovertemplate": "color=bills<br>x=%{x}<br>y=%{y}<extra></extra>",
         "legendgroup": "bills",
         "marker": {
          "color": "#636efa"
         },
         "name": "bills",
         "offsetgroup": "bills",
         "orientation": "v",
         "showlegend": true,
         "textposition": "auto",
         "type": "bar",
         "x": [
          "2020-04-01T00:00:00",
          "2020-05-01T00:00:00",
          "2020-06-01T00:00:00",
          "2020-07-01T00:00:00",
          "2020-08-01T00:00:00"
         ],
         "xaxis": "x",
         "y": [
          774,
          774.79,
          801.0600000000001,
          780.28,
          792
         ],
         "yaxis": "y"
        },
        {
         "alignmentgroup": "True",
         "hovertemplate": "color=entertainment<br>x=%{x}<br>y=%{y}<extra></extra>",
         "legendgroup": "entertainment",
         "marker": {
          "color": "#EF553B"
         },
         "name": "entertainment",
         "offsetgroup": "entertainment",
         "orientation": "v",
         "showlegend": true,
         "textposition": "auto",
         "type": "bar",
         "x": [
          "2020-04-01T00:00:00",
          "2020-05-01T00:00:00",
          "2020-06-01T00:00:00",
          "2020-07-01T00:00:00",
          "2020-08-01T00:00:00"
         ],
         "xaxis": "x",
         "y": [
          65.12,
          0.85,
          0.84,
          9.540000000000001,
          7.99
         ],
         "yaxis": "y"
        },
        {
         "alignmentgroup": "True",
         "hovertemplate": "color=expenses<br>x=%{x}<br>y=%{y}<extra></extra>",
         "legendgroup": "expenses",
         "marker": {
          "color": "#00cc96"
         },
         "name": "expenses",
         "offsetgroup": "expenses",
         "orientation": "v",
         "showlegend": true,
         "textposition": "auto",
         "type": "bar",
         "x": [
          "2020-04-01T00:00:00",
          "2020-05-01T00:00:00",
          "2020-06-01T00:00:00",
          "2020-07-01T00:00:00"
         ],
         "xaxis": "x",
         "y": [
          37.15,
          37.75,
          26.61,
          53.6
         ],
         "yaxis": "y"
        },
        {
         "alignmentgroup": "True",
         "hovertemplate": "color=general<br>x=%{x}<br>y=%{y}<extra></extra>",
         "legendgroup": "general",
         "marker": {
          "color": "#ab63fa"
         },
         "name": "general",
         "offsetgroup": "general",
         "orientation": "v",
         "showlegend": true,
         "textposition": "auto",
         "type": "bar",
         "x": [
          "2020-04-01T00:00:00",
          "2020-05-01T00:00:00",
          "2020-06-01T00:00:00",
          "2020-07-01T00:00:00",
          "2020-08-01T00:00:00"
         ],
         "xaxis": "x",
         "y": [
          292.84,
          108.53999999999999,
          319.74,
          583.18,
          14.89
         ],
         "yaxis": "y"
        },
        {
         "alignmentgroup": "True",
         "hovertemplate": "color=personal care<br>x=%{x}<br>y=%{y}<extra></extra>",
         "legendgroup": "personal care",
         "marker": {
          "color": "#FFA15A"
         },
         "name": "personal care",
         "offsetgroup": "personal care",
         "orientation": "v",
         "showlegend": true,
         "textposition": "auto",
         "type": "bar",
         "x": [
          "2020-04-01T00:00:00",
          "2020-05-01T00:00:00",
          "2020-06-01T00:00:00",
          "2020-07-01T00:00:00"
         ],
         "xaxis": "x",
         "y": [
          51.7,
          8.72,
          98.75,
          67.94
         ],
         "yaxis": "y"
        },
        {
         "alignmentgroup": "True",
         "hovertemplate": "color=eating out<br>x=%{x}<br>y=%{y}<extra></extra>",
         "legendgroup": "eating out",
         "marker": {
          "color": "#19d3f3"
         },
         "name": "eating out",
         "offsetgroup": "eating out",
         "orientation": "v",
         "showlegend": true,
         "textposition": "auto",
         "type": "bar",
         "x": [
          "2020-05-01T00:00:00",
          "2020-08-01T00:00:00"
         ],
         "xaxis": "x",
         "y": [
          57.14,
          61.75
         ],
         "yaxis": "y"
        },
        {
         "alignmentgroup": "True",
         "hovertemplate": "color=groceries<br>x=%{x}<br>y=%{y}<extra></extra>",
         "legendgroup": "groceries",
         "marker": {
          "color": "#FF6692"
         },
         "name": "groceries",
         "offsetgroup": "groceries",
         "orientation": "v",
         "showlegend": true,
         "textposition": "auto",
         "type": "bar",
         "x": [
          "2020-05-01T00:00:00",
          "2020-07-01T00:00:00",
          "2020-08-01T00:00:00"
         ],
         "xaxis": "x",
         "y": [
          177.39,
          19.4,
          635.1399999999999
         ],
         "yaxis": "y"
        },
        {
         "alignmentgroup": "True",
         "hovertemplate": "color=shopping<br>x=%{x}<br>y=%{y}<extra></extra>",
         "legendgroup": "shopping",
         "marker": {
          "color": "#B6E880"
         },
         "name": "shopping",
         "offsetgroup": "shopping",
         "orientation": "v",
         "showlegend": true,
         "textposition": "auto",
         "type": "bar",
         "x": [
          "2020-05-01T00:00:00",
          "2020-06-01T00:00:00",
          "2020-07-01T00:00:00"
         ],
         "xaxis": "x",
         "y": [
          38.22,
          156.35999999999999,
          127.36999999999999
         ],
         "yaxis": "y"
        },
        {
         "alignmentgroup": "True",
         "hovertemplate": "color=transport<br>x=%{x}<br>y=%{y}<extra></extra>",
         "legendgroup": "transport",
         "marker": {
          "color": "#FF97FF"
         },
         "name": "transport",
         "offsetgroup": "transport",
         "orientation": "v",
         "showlegend": true,
         "textposition": "auto",
         "type": "bar",
         "x": [
          "2020-06-01T00:00:00",
          "2020-07-01T00:00:00",
          "2020-08-01T00:00:00"
         ],
         "xaxis": "x",
         "y": [
          2.8,
          18,
          98.80000000000001
         ],
         "yaxis": "y"
        },
        {
         "alignmentgroup": "True",
         "hovertemplate": "color=health<br>x=%{x}<br>y=%{y}<extra></extra>",
         "legendgroup": "health",
         "marker": {
          "color": "#FECB52"
         },
         "name": "health",
         "offsetgroup": "health",
         "orientation": "v",
         "showlegend": true,
         "textposition": "auto",
         "type": "bar",
         "x": [
          "2020-07-01T00:00:00",
          "2020-08-01T00:00:00"
         ],
         "xaxis": "x",
         "y": [
          23.99,
          91.46
         ],
         "yaxis": "y"
        },
        {
         "alignmentgroup": "True",
         "hovertemplate": "color=subscriptions<br>x=%{x}<br>y=%{y}<extra></extra>",
         "legendgroup": "subscriptions",
         "marker": {
          "color": "#636efa"
         },
         "name": "subscriptions",
         "offsetgroup": "subscriptions",
         "orientation": "v",
         "showlegend": true,
         "textposition": "auto",
         "type": "bar",
         "x": [
          "2020-07-01T00:00:00",
          "2020-08-01T00:00:00"
         ],
         "xaxis": "x",
         "y": [
          11.79,
          16.71
         ],
         "yaxis": "y"
        },
        {
         "alignmentgroup": "True",
         "hovertemplate": "color=fees<br>x=%{x}<br>y=%{y}<extra></extra>",
         "legendgroup": "fees",
         "marker": {
          "color": "#EF553B"
         },
         "name": "fees",
         "offsetgroup": "fees",
         "orientation": "v",
         "showlegend": true,
         "textposition": "auto",
         "type": "bar",
         "x": [
          "2020-08-01T00:00:00"
         ],
         "xaxis": "x",
         "y": [
          0.06
         ],
         "yaxis": "y"
        },
        {
         "alignmentgroup": "True",
         "hovertemplate": "color=holidays<br>x=%{x}<br>y=%{y}<extra></extra>",
         "legendgroup": "holidays",
         "marker": {
          "color": "#00cc96"
         },
         "name": "holidays",
         "offsetgroup": "holidays",
         "orientation": "v",
         "showlegend": true,
         "textposition": "auto",
         "type": "bar",
         "x": [
          "2020-08-01T00:00:00"
         ],
         "xaxis": "x",
         "y": [
          732.66
         ],
         "yaxis": "y"
        }
       ],
       "layout": {
        "autosize": true,
        "barmode": "relative",
        "legend": {
         "title": {
          "text": "Category"
         },
         "tracegroupgap": 0
        },
        "margin": {
         "t": 60
        },
        "template": {
         "data": {
          "bar": [
           {
            "error_x": {
             "color": "#2a3f5f"
            },
            "error_y": {
             "color": "#2a3f5f"
            },
            "marker": {
             "line": {
              "color": "#E5ECF6",
              "width": 0.5
             }
            },
            "type": "bar"
           }
          ],
          "barpolar": [
           {
            "marker": {
             "line": {
              "color": "#E5ECF6",
              "width": 0.5
             }
            },
            "type": "barpolar"
           }
          ],
          "carpet": [
           {
            "aaxis": {
             "endlinecolor": "#2a3f5f",
             "gridcolor": "white",
             "linecolor": "white",
             "minorgridcolor": "white",
             "startlinecolor": "#2a3f5f"
            },
            "baxis": {
             "endlinecolor": "#2a3f5f",
             "gridcolor": "white",
             "linecolor": "white",
             "minorgridcolor": "white",
             "startlinecolor": "#2a3f5f"
            },
            "type": "carpet"
           }
          ],
          "choropleth": [
           {
            "colorbar": {
             "outlinewidth": 0,
             "ticks": ""
            },
            "type": "choropleth"
           }
          ],
          "contour": [
           {
            "colorbar": {
             "outlinewidth": 0,
             "ticks": ""
            },
            "colorscale": [
             [
              0,
              "#0d0887"
             ],
             [
              0.1111111111111111,
              "#46039f"
             ],
             [
              0.2222222222222222,
              "#7201a8"
             ],
             [
              0.3333333333333333,
              "#9c179e"
             ],
             [
              0.4444444444444444,
              "#bd3786"
             ],
             [
              0.5555555555555556,
              "#d8576b"
             ],
             [
              0.6666666666666666,
              "#ed7953"
             ],
             [
              0.7777777777777778,
              "#fb9f3a"
             ],
             [
              0.8888888888888888,
              "#fdca26"
             ],
             [
              1,
              "#f0f921"
             ]
            ],
            "type": "contour"
           }
          ],
          "contourcarpet": [
           {
            "colorbar": {
             "outlinewidth": 0,
             "ticks": ""
            },
            "type": "contourcarpet"
           }
          ],
          "heatmap": [
           {
            "colorbar": {
             "outlinewidth": 0,
             "ticks": ""
            },
            "colorscale": [
             [
              0,
              "#0d0887"
             ],
             [
              0.1111111111111111,
              "#46039f"
             ],
             [
              0.2222222222222222,
              "#7201a8"
             ],
             [
              0.3333333333333333,
              "#9c179e"
             ],
             [
              0.4444444444444444,
              "#bd3786"
             ],
             [
              0.5555555555555556,
              "#d8576b"
             ],
             [
              0.6666666666666666,
              "#ed7953"
             ],
             [
              0.7777777777777778,
              "#fb9f3a"
             ],
             [
              0.8888888888888888,
              "#fdca26"
             ],
             [
              1,
              "#f0f921"
             ]
            ],
            "type": "heatmap"
           }
          ],
          "heatmapgl": [
           {
            "colorbar": {
             "outlinewidth": 0,
             "ticks": ""
            },
            "colorscale": [
             [
              0,
              "#0d0887"
             ],
             [
              0.1111111111111111,
              "#46039f"
             ],
             [
              0.2222222222222222,
              "#7201a8"
             ],
             [
              0.3333333333333333,
              "#9c179e"
             ],
             [
              0.4444444444444444,
              "#bd3786"
             ],
             [
              0.5555555555555556,
              "#d8576b"
             ],
             [
              0.6666666666666666,
              "#ed7953"
             ],
             [
              0.7777777777777778,
              "#fb9f3a"
             ],
             [
              0.8888888888888888,
              "#fdca26"
             ],
             [
              1,
              "#f0f921"
             ]
            ],
            "type": "heatmapgl"
           }
          ],
          "histogram": [
           {
            "marker": {
             "colorbar": {
              "outlinewidth": 0,
              "ticks": ""
             }
            },
            "type": "histogram"
           }
          ],
          "histogram2d": [
           {
            "colorbar": {
             "outlinewidth": 0,
             "ticks": ""
            },
            "colorscale": [
             [
              0,
              "#0d0887"
             ],
             [
              0.1111111111111111,
              "#46039f"
             ],
             [
              0.2222222222222222,
              "#7201a8"
             ],
             [
              0.3333333333333333,
              "#9c179e"
             ],
             [
              0.4444444444444444,
              "#bd3786"
             ],
             [
              0.5555555555555556,
              "#d8576b"
             ],
             [
              0.6666666666666666,
              "#ed7953"
             ],
             [
              0.7777777777777778,
              "#fb9f3a"
             ],
             [
              0.8888888888888888,
              "#fdca26"
             ],
             [
              1,
              "#f0f921"
             ]
            ],
            "type": "histogram2d"
           }
          ],
          "histogram2dcontour": [
           {
            "colorbar": {
             "outlinewidth": 0,
             "ticks": ""
            },
            "colorscale": [
             [
              0,
              "#0d0887"
             ],
             [
              0.1111111111111111,
              "#46039f"
             ],
             [
              0.2222222222222222,
              "#7201a8"
             ],
             [
              0.3333333333333333,
              "#9c179e"
             ],
             [
              0.4444444444444444,
              "#bd3786"
             ],
             [
              0.5555555555555556,
              "#d8576b"
             ],
             [
              0.6666666666666666,
              "#ed7953"
             ],
             [
              0.7777777777777778,
              "#fb9f3a"
             ],
             [
              0.8888888888888888,
              "#fdca26"
             ],
             [
              1,
              "#f0f921"
             ]
            ],
            "type": "histogram2dcontour"
           }
          ],
          "mesh3d": [
           {
            "colorbar": {
             "outlinewidth": 0,
             "ticks": ""
            },
            "type": "mesh3d"
           }
          ],
          "parcoords": [
           {
            "line": {
             "colorbar": {
              "outlinewidth": 0,
              "ticks": ""
             }
            },
            "type": "parcoords"
           }
          ],
          "pie": [
           {
            "automargin": true,
            "type": "pie"
           }
          ],
          "scatter": [
           {
            "marker": {
             "colorbar": {
              "outlinewidth": 0,
              "ticks": ""
             }
            },
            "type": "scatter"
           }
          ],
          "scatter3d": [
           {
            "line": {
             "colorbar": {
              "outlinewidth": 0,
              "ticks": ""
             }
            },
            "marker": {
             "colorbar": {
              "outlinewidth": 0,
              "ticks": ""
             }
            },
            "type": "scatter3d"
           }
          ],
          "scattercarpet": [
           {
            "marker": {
             "colorbar": {
              "outlinewidth": 0,
              "ticks": ""
             }
            },
            "type": "scattercarpet"
           }
          ],
          "scattergeo": [
           {
            "marker": {
             "colorbar": {
              "outlinewidth": 0,
              "ticks": ""
             }
            },
            "type": "scattergeo"
           }
          ],
          "scattergl": [
           {
            "marker": {
             "colorbar": {
              "outlinewidth": 0,
              "ticks": ""
             }
            },
            "type": "scattergl"
           }
          ],
          "scattermapbox": [
           {
            "marker": {
             "colorbar": {
              "outlinewidth": 0,
              "ticks": ""
             }
            },
            "type": "scattermapbox"
           }
          ],
          "scatterpolar": [
           {
            "marker": {
             "colorbar": {
              "outlinewidth": 0,
              "ticks": ""
             }
            },
            "type": "scatterpolar"
           }
          ],
          "scatterpolargl": [
           {
            "marker": {
             "colorbar": {
              "outlinewidth": 0,
              "ticks": ""
             }
            },
            "type": "scatterpolargl"
           }
          ],
          "scatterternary": [
           {
            "marker": {
             "colorbar": {
              "outlinewidth": 0,
              "ticks": ""
             }
            },
            "type": "scatterternary"
           }
          ],
          "surface": [
           {
            "colorbar": {
             "outlinewidth": 0,
             "ticks": ""
            },
            "colorscale": [
             [
              0,
              "#0d0887"
             ],
             [
              0.1111111111111111,
              "#46039f"
             ],
             [
              0.2222222222222222,
              "#7201a8"
             ],
             [
              0.3333333333333333,
              "#9c179e"
             ],
             [
              0.4444444444444444,
              "#bd3786"
             ],
             [
              0.5555555555555556,
              "#d8576b"
             ],
             [
              0.6666666666666666,
              "#ed7953"
             ],
             [
              0.7777777777777778,
              "#fb9f3a"
             ],
             [
              0.8888888888888888,
              "#fdca26"
             ],
             [
              1,
              "#f0f921"
             ]
            ],
            "type": "surface"
           }
          ],
          "table": [
           {
            "cells": {
             "fill": {
              "color": "#EBF0F8"
             },
             "line": {
              "color": "white"
             }
            },
            "header": {
             "fill": {
              "color": "#C8D4E3"
             },
             "line": {
              "color": "white"
             }
            },
            "type": "table"
           }
          ]
         },
         "layout": {
          "annotationdefaults": {
           "arrowcolor": "#2a3f5f",
           "arrowhead": 0,
           "arrowwidth": 1
          },
          "coloraxis": {
           "colorbar": {
            "outlinewidth": 0,
            "ticks": ""
           }
          },
          "colorscale": {
           "diverging": [
            [
             0,
             "#8e0152"
            ],
            [
             0.1,
             "#c51b7d"
            ],
            [
             0.2,
             "#de77ae"
            ],
            [
             0.3,
             "#f1b6da"
            ],
            [
             0.4,
             "#fde0ef"
            ],
            [
             0.5,
             "#f7f7f7"
            ],
            [
             0.6,
             "#e6f5d0"
            ],
            [
             0.7,
             "#b8e186"
            ],
            [
             0.8,
             "#7fbc41"
            ],
            [
             0.9,
             "#4d9221"
            ],
            [
             1,
             "#276419"
            ]
           ],
           "sequential": [
            [
             0,
             "#0d0887"
            ],
            [
             0.1111111111111111,
             "#46039f"
            ],
            [
             0.2222222222222222,
             "#7201a8"
            ],
            [
             0.3333333333333333,
             "#9c179e"
            ],
            [
             0.4444444444444444,
             "#bd3786"
            ],
            [
             0.5555555555555556,
             "#d8576b"
            ],
            [
             0.6666666666666666,
             "#ed7953"
            ],
            [
             0.7777777777777778,
             "#fb9f3a"
            ],
            [
             0.8888888888888888,
             "#fdca26"
            ],
            [
             1,
             "#f0f921"
            ]
           ],
           "sequentialminus": [
            [
             0,
             "#0d0887"
            ],
            [
             0.1111111111111111,
             "#46039f"
            ],
            [
             0.2222222222222222,
             "#7201a8"
            ],
            [
             0.3333333333333333,
             "#9c179e"
            ],
            [
             0.4444444444444444,
             "#bd3786"
            ],
            [
             0.5555555555555556,
             "#d8576b"
            ],
            [
             0.6666666666666666,
             "#ed7953"
            ],
            [
             0.7777777777777778,
             "#fb9f3a"
            ],
            [
             0.8888888888888888,
             "#fdca26"
            ],
            [
             1,
             "#f0f921"
            ]
           ]
          },
          "colorway": [
           "#636efa",
           "#EF553B",
           "#00cc96",
           "#ab63fa",
           "#FFA15A",
           "#19d3f3",
           "#FF6692",
           "#B6E880",
           "#FF97FF",
           "#FECB52"
          ],
          "font": {
           "color": "#2a3f5f"
          },
          "geo": {
           "bgcolor": "white",
           "lakecolor": "white",
           "landcolor": "#E5ECF6",
           "showlakes": true,
           "showland": true,
           "subunitcolor": "white"
          },
          "hoverlabel": {
           "align": "left"
          },
          "hovermode": "closest",
          "mapbox": {
           "style": "light"
          },
          "paper_bgcolor": "white",
          "plot_bgcolor": "#E5ECF6",
          "polar": {
           "angularaxis": {
            "gridcolor": "white",
            "linecolor": "white",
            "ticks": ""
           },
           "bgcolor": "#E5ECF6",
           "radialaxis": {
            "gridcolor": "white",
            "linecolor": "white",
            "ticks": ""
           }
          },
          "scene": {
           "xaxis": {
            "backgroundcolor": "#E5ECF6",
            "gridcolor": "white",
            "gridwidth": 2,
            "linecolor": "white",
            "showbackground": true,
            "ticks": "",
            "zerolinecolor": "white"
           },
           "yaxis": {
            "backgroundcolor": "#E5ECF6",
            "gridcolor": "white",
            "gridwidth": 2,
            "linecolor": "white",
            "showbackground": true,
            "ticks": "",
            "zerolinecolor": "white"
           },
           "zaxis": {
            "backgroundcolor": "#E5ECF6",
            "gridcolor": "white",
            "gridwidth": 2,
            "linecolor": "white",
            "showbackground": true,
            "ticks": "",
            "zerolinecolor": "white"
           }
          },
          "shapedefaults": {
           "line": {
            "color": "#2a3f5f"
           }
          },
          "ternary": {
           "aaxis": {
            "gridcolor": "white",
            "linecolor": "white",
            "ticks": ""
           },
           "baxis": {
            "gridcolor": "white",
            "linecolor": "white",
            "ticks": ""
           },
           "bgcolor": "#E5ECF6",
           "caxis": {
            "gridcolor": "white",
            "linecolor": "white",
            "ticks": ""
           }
          },
          "title": {
           "x": 0.05
          },
          "xaxis": {
           "automargin": true,
           "gridcolor": "white",
           "linecolor": "white",
           "ticks": "",
           "title": {
            "standoff": 15
           },
           "zerolinecolor": "white",
           "zerolinewidth": 2
          },
          "yaxis": {
           "automargin": true,
           "gridcolor": "white",
           "linecolor": "white",
           "ticks": "",
           "title": {
            "standoff": 15
           },
           "zerolinecolor": "white",
           "zerolinewidth": 2
          }
         }
        },
        "xaxis": {
         "anchor": "y",
         "autorange": true,
         "domain": [
          0,
          1
         ],
         "range": [
          -0.5,
          4.5
         ],
         "title": {
          "text": "Month"
         },
         "type": "category"
        },
        "yaxis": {
         "anchor": "x",
         "autorange": true,
         "domain": [
          0,
          1
         ],
         "range": [
          0,
          2580.484210526316
         ],
         "title": {
          "text": "Spending"
         },
         "type": "linear"
        }
       }
      },
      "image/png": "[encoded data removed]",
      "text/html": [
       "<div>\n",
       "        \n",
       "        \n",
       "            <div id=\"e4069ffe-5a5f-4a61-a32e-59797c0248f7\" class=\"plotly-graph-div\" style=\"height:525px; width:100%;\"></div>\n",
       "            <script type=\"text/javascript\">\n",
       "                require([\"plotly\"], function(Plotly) {\n",
       "                    window.PLOTLYENV=window.PLOTLYENV || {};\n",
       "                    \n",
       "                if (document.getElementById(\"e4069ffe-5a5f-4a61-a32e-59797c0248f7\")) {\n",
       "                    Plotly.newPlot(\n",
       "                        'e4069ffe-5a5f-4a61-a32e-59797c0248f7',\n",
       "                        [{\"alignmentgroup\": \"True\", \"hovertemplate\": \"color=bills<br>x=%{x}<br>y=%{y}<extra></extra>\", \"legendgroup\": \"bills\", \"marker\": {\"color\": \"#636efa\"}, \"name\": \"bills\", \"offsetgroup\": \"bills\", \"orientation\": \"v\", \"showlegend\": true, \"textposition\": \"auto\", \"type\": \"bar\", \"x\": [\"2020-04-01T00:00:00\", \"2020-05-01T00:00:00\", \"2020-06-01T00:00:00\", \"2020-07-01T00:00:00\", \"2020-08-01T00:00:00\"], \"xaxis\": \"x\", \"y\": [774.0, 774.79, 801.0600000000001, 780.28, 792.0], \"yaxis\": \"y\"}, {\"alignmentgroup\": \"True\", \"hovertemplate\": \"color=entertainment<br>x=%{x}<br>y=%{y}<extra></extra>\", \"legendgroup\": \"entertainment\", \"marker\": {\"color\": \"#EF553B\"}, \"name\": \"entertainment\", \"offsetgroup\": \"entertainment\", \"orientation\": \"v\", \"showlegend\": true, \"textposition\": \"auto\", \"type\": \"bar\", \"x\": [\"2020-04-01T00:00:00\", \"2020-05-01T00:00:00\", \"2020-06-01T00:00:00\", \"2020-07-01T00:00:00\", \"2020-08-01T00:00:00\"], \"xaxis\": \"x\", \"y\": [65.12, 0.85, 0.84, 9.540000000000001, 7.99], \"yaxis\": \"y\"}, {\"alignmentgroup\": \"True\", \"hovertemplate\": \"color=expenses<br>x=%{x}<br>y=%{y}<extra></extra>\", \"legendgroup\": \"expenses\", \"marker\": {\"color\": \"#00cc96\"}, \"name\": \"expenses\", \"offsetgroup\": \"expenses\", \"orientation\": \"v\", \"showlegend\": true, \"textposition\": \"auto\", \"type\": \"bar\", \"x\": [\"2020-04-01T00:00:00\", \"2020-05-01T00:00:00\", \"2020-06-01T00:00:00\", \"2020-07-01T00:00:00\"], \"xaxis\": \"x\", \"y\": [37.15, 37.75, 26.61, 53.6], \"yaxis\": \"y\"}, {\"alignmentgroup\": \"True\", \"hovertemplate\": \"color=general<br>x=%{x}<br>y=%{y}<extra></extra>\", \"legendgroup\": \"general\", \"marker\": {\"color\": \"#ab63fa\"}, \"name\": \"general\", \"offsetgroup\": \"general\", \"orientation\": \"v\", \"showlegend\": true, \"textposition\": \"auto\", \"type\": \"bar\", \"x\": [\"2020-04-01T00:00:00\", \"2020-05-01T00:00:00\", \"2020-06-01T00:00:00\", \"2020-07-01T00:00:00\", \"2020-08-01T00:00:00\"], \"xaxis\": \"x\", \"y\": [292.84, 108.53999999999999, 319.74, 583.18, 14.89], \"yaxis\": \"y\"}, {\"alignmentgroup\": \"True\", \"hovertemplate\": \"color=personal care<br>x=%{x}<br>y=%{y}<extra></extra>\", \"legendgroup\": \"personal care\", \"marker\": {\"color\": \"#FFA15A\"}, \"name\": \"personal care\", \"offsetgroup\": \"personal care\", \"orientation\": \"v\", \"showlegend\": true, \"textposition\": \"auto\", \"type\": \"bar\", \"x\": [\"2020-04-01T00:00:00\", \"2020-05-01T00:00:00\", \"2020-06-01T00:00:00\", \"2020-07-01T00:00:00\"], \"xaxis\": \"x\", \"y\": [51.7, 8.72, 98.75, 67.94], \"yaxis\": \"y\"}, {\"alignmentgroup\": \"True\", \"hovertemplate\": \"color=eating out<br>x=%{x}<br>y=%{y}<extra></extra>\", \"legendgroup\": \"eating out\", \"marker\": {\"color\": \"#19d3f3\"}, \"name\": \"eating out\", \"offsetgroup\": \"eating out\", \"orientation\": \"v\", \"showlegend\": true, \"textposition\": \"auto\", \"type\": \"bar\", \"x\": [\"2020-05-01T00:00:00\", \"2020-08-01T00:00:00\"], \"xaxis\": \"x\", \"y\": [57.14, 61.75], \"yaxis\": \"y\"}, {\"alignmentgroup\": \"True\", \"hovertemplate\": \"color=groceries<br>x=%{x}<br>y=%{y}<extra></extra>\", \"legendgroup\": \"groceries\", \"marker\": {\"color\": \"#FF6692\"}, \"name\": \"groceries\", \"offsetgroup\": \"groceries\", \"orientation\": \"v\", \"showlegend\": true, \"textposition\": \"auto\", \"type\": \"bar\", \"x\": [\"2020-05-01T00:00:00\", \"2020-07-01T00:00:00\", \"2020-08-01T00:00:00\"], \"xaxis\": \"x\", \"y\": [177.39, 19.4, 635.1399999999999], \"yaxis\": \"y\"}, {\"alignmentgroup\": \"True\", \"hovertemplate\": \"color=shopping<br>x=%{x}<br>y=%{y}<extra></extra>\", \"legendgroup\": \"shopping\", \"marker\": {\"color\": \"#B6E880\"}, \"name\": \"shopping\", \"offsetgroup\": \"shopping\", \"orientation\": \"v\", \"showlegend\": true, \"textposition\": \"auto\", \"type\": \"bar\", \"x\": [\"2020-05-01T00:00:00\", \"2020-06-01T00:00:00\", \"2020-07-01T00:00:00\"], \"xaxis\": \"x\", \"y\": [38.22, 156.35999999999999, 127.36999999999999], \"yaxis\": \"y\"}, {\"alignmentgroup\": \"True\", \"hovertemplate\": \"color=transport<br>x=%{x}<br>y=%{y}<extra></extra>\", \"legendgroup\": \"transport\", \"marker\": {\"color\": \"#FF97FF\"}, \"name\": \"transport\", \"offsetgroup\": \"transport\", \"orientation\": \"v\", \"showlegend\": true, \"textposition\": \"auto\", \"type\": \"bar\", \"x\": [\"2020-06-01T00:00:00\", \"2020-07-01T00:00:00\", \"2020-08-01T00:00:00\"], \"xaxis\": \"x\", \"y\": [2.8, 18.0, 98.80000000000001], \"yaxis\": \"y\"}, {\"alignmentgroup\": \"True\", \"hovertemplate\": \"color=health<br>x=%{x}<br>y=%{y}<extra></extra>\", \"legendgroup\": \"health\", \"marker\": {\"color\": \"#FECB52\"}, \"name\": \"health\", \"offsetgroup\": \"health\", \"orientation\": \"v\", \"showlegend\": true, \"textposition\": \"auto\", \"type\": \"bar\", \"x\": [\"2020-07-01T00:00:00\", \"2020-08-01T00:00:00\"], \"xaxis\": \"x\", \"y\": [23.99, 91.46], \"yaxis\": \"y\"}, {\"alignmentgroup\": \"True\", \"hovertemplate\": \"color=subscriptions<br>x=%{x}<br>y=%{y}<extra></extra>\", \"legendgroup\": \"subscriptions\", \"marker\": {\"color\": \"#636efa\"}, \"name\": \"subscriptions\", \"offsetgroup\": \"subscriptions\", \"orientation\": \"v\", \"showlegend\": true, \"textposition\": \"auto\", \"type\": \"bar\", \"x\": [\"2020-07-01T00:00:00\", \"2020-08-01T00:00:00\"], \"xaxis\": \"x\", \"y\": [11.79, 16.71], \"yaxis\": \"y\"}, {\"alignmentgroup\": \"True\", \"hovertemplate\": \"color=fees<br>x=%{x}<br>y=%{y}<extra></extra>\", \"legendgroup\": \"fees\", \"marker\": {\"color\": \"#EF553B\"}, \"name\": \"fees\", \"offsetgroup\": \"fees\", \"orientation\": \"v\", \"showlegend\": true, \"textposition\": \"auto\", \"type\": \"bar\", \"x\": [\"2020-08-01T00:00:00\"], \"xaxis\": \"x\", \"y\": [0.06], \"yaxis\": \"y\"}, {\"alignmentgroup\": \"True\", \"hovertemplate\": \"color=holidays<br>x=%{x}<br>y=%{y}<extra></extra>\", \"legendgroup\": \"holidays\", \"marker\": {\"color\": \"#00cc96\"}, \"name\": \"holidays\", \"offsetgroup\": \"holidays\", \"orientation\": \"v\", \"showlegend\": true, \"textposition\": \"auto\", \"type\": \"bar\", \"x\": [\"2020-08-01T00:00:00\"], \"xaxis\": \"x\", \"y\": [732.66], \"yaxis\": \"y\"}],\n",
       "                        {\"barmode\": \"relative\", \"legend\": {\"title\": {\"text\": \"Category\"}, \"tracegroupgap\": 0}, \"margin\": {\"t\": 60}, \"template\": {\"data\": {\"bar\": [{\"error_x\": {\"color\": \"#2a3f5f\"}, \"error_y\": {\"color\": \"#2a3f5f\"}, \"marker\": {\"line\": {\"color\": \"#E5ECF6\", \"width\": 0.5}}, \"type\": \"bar\"}], \"barpolar\": [{\"marker\": {\"line\": {\"color\": \"#E5ECF6\", \"width\": 0.5}}, \"type\": \"barpolar\"}], \"carpet\": [{\"aaxis\": {\"endlinecolor\": \"#2a3f5f\", \"gridcolor\": \"white\", \"linecolor\": \"white\", \"minorgridcolor\": \"white\", \"startlinecolor\": \"#2a3f5f\"}, \"baxis\": {\"endlinecolor\": \"#2a3f5f\", \"gridcolor\": \"white\", \"linecolor\": \"white\", \"minorgridcolor\": \"white\", \"startlinecolor\": \"#2a3f5f\"}, \"type\": \"carpet\"}], \"choropleth\": [{\"colorbar\": {\"outlinewidth\": 0, \"ticks\": \"\"}, \"type\": \"choropleth\"}], \"contour\": [{\"colorbar\": {\"outlinewidth\": 0, \"ticks\": \"\"}, \"colorscale\": [[0.0, \"#0d0887\"], [0.1111111111111111, \"#46039f\"], [0.2222222222222222, \"#7201a8\"], [0.3333333333333333, \"#9c179e\"], [0.4444444444444444, \"#bd3786\"], [0.5555555555555556, \"#d8576b\"], [0.6666666666666666, \"#ed7953\"], [0.7777777777777778, \"#fb9f3a\"], [0.8888888888888888, \"#fdca26\"], [1.0, \"#f0f921\"]], \"type\": \"contour\"}], \"contourcarpet\": [{\"colorbar\": {\"outlinewidth\": 0, \"ticks\": \"\"}, \"type\": \"contourcarpet\"}], \"heatmap\": [{\"colorbar\": {\"outlinewidth\": 0, \"ticks\": \"\"}, \"colorscale\": [[0.0, \"#0d0887\"], [0.1111111111111111, \"#46039f\"], [0.2222222222222222, \"#7201a8\"], [0.3333333333333333, \"#9c179e\"], [0.4444444444444444, \"#bd3786\"], [0.5555555555555556, \"#d8576b\"], [0.6666666666666666, \"#ed7953\"], [0.7777777777777778, \"#fb9f3a\"], [0.8888888888888888, \"#fdca26\"], [1.0, \"#f0f921\"]], \"type\": \"heatmap\"}], \"heatmapgl\": [{\"colorbar\": {\"outlinewidth\": 0, \"ticks\": \"\"}, \"colorscale\": [[0.0, \"#0d0887\"], [0.1111111111111111, \"#46039f\"], [0.2222222222222222, \"#7201a8\"], [0.3333333333333333, \"#9c179e\"], [0.4444444444444444, \"#bd3786\"], [0.5555555555555556, \"#d8576b\"], [0.6666666666666666, \"#ed7953\"], [0.7777777777777778, \"#fb9f3a\"], [0.8888888888888888, \"#fdca26\"], [1.0, \"#f0f921\"]], \"type\": \"heatmapgl\"}], \"histogram\": [{\"marker\": {\"colorbar\": {\"outlinewidth\": 0, \"ticks\": \"\"}}, \"type\": \"histogram\"}], \"histogram2d\": [{\"colorbar\": {\"outlinewidth\": 0, \"ticks\": \"\"}, \"colorscale\": [[0.0, \"#0d0887\"], [0.1111111111111111, \"#46039f\"], [0.2222222222222222, \"#7201a8\"], [0.3333333333333333, \"#9c179e\"], [0.4444444444444444, \"#bd3786\"], [0.5555555555555556, \"#d8576b\"], [0.6666666666666666, \"#ed7953\"], [0.7777777777777778, \"#fb9f3a\"], [0.8888888888888888, \"#fdca26\"], [1.0, \"#f0f921\"]], \"type\": \"histogram2d\"}], \"histogram2dcontour\": [{\"colorbar\": {\"outlinewidth\": 0, \"ticks\": \"\"}, \"colorscale\": [[0.0, \"#0d0887\"], [0.1111111111111111, \"#46039f\"], [0.2222222222222222, \"#7201a8\"], [0.3333333333333333, \"#9c179e\"], [0.4444444444444444, \"#bd3786\"], [0.5555555555555556, \"#d8576b\"], [0.6666666666666666, \"#ed7953\"], [0.7777777777777778, \"#fb9f3a\"], [0.8888888888888888, \"#fdca26\"], [1.0, \"#f0f921\"]], \"type\": \"histogram2dcontour\"}], \"mesh3d\": [{\"colorbar\": {\"outlinewidth\": 0, \"ticks\": \"\"}, \"type\": \"mesh3d\"}], \"parcoords\": [{\"line\": {\"colorbar\": {\"outlinewidth\": 0, \"ticks\": \"\"}}, \"type\": \"parcoords\"}], \"pie\": [{\"automargin\": true, \"type\": \"pie\"}], \"scatter\": [{\"marker\": {\"colorbar\": {\"outlinewidth\": 0, \"ticks\": \"\"}}, \"type\": \"scatter\"}], \"scatter3d\": [{\"line\": {\"colorbar\": {\"outlinewidth\": 0, \"ticks\": \"\"}}, \"marker\": {\"colorbar\": {\"outlinewidth\": 0, \"ticks\": \"\"}}, \"type\": \"scatter3d\"}], \"scattercarpet\": [{\"marker\": {\"colorbar\": {\"outlinewidth\": 0, \"ticks\": \"\"}}, \"type\": \"scattercarpet\"}], \"scattergeo\": [{\"marker\": {\"colorbar\": {\"outlinewidth\": 0, \"ticks\": \"\"}}, \"type\": \"scattergeo\"}], \"scattergl\": [{\"marker\": {\"colorbar\": {\"outlinewidth\": 0, \"ticks\": \"\"}}, \"type\": \"scattergl\"}], \"scattermapbox\": [{\"marker\": {\"colorbar\": {\"outlinewidth\": 0, \"ticks\": \"\"}}, \"type\": \"scattermapbox\"}], \"scatterpolar\": [{\"marker\": {\"colorbar\": {\"outlinewidth\": 0, \"ticks\": \"\"}}, \"type\": \"scatterpolar\"}], \"scatterpolargl\": [{\"marker\": {\"colorbar\": {\"outlinewidth\": 0, \"ticks\": \"\"}}, \"type\": \"scatterpolargl\"}], \"scatterternary\": [{\"marker\": {\"colorbar\": {\"outlinewidth\": 0, \"ticks\": \"\"}}, \"type\": \"scatterternary\"}], \"surface\": [{\"colorbar\": {\"outlinewidth\": 0, \"ticks\": \"\"}, \"colorscale\": [[0.0, \"#0d0887\"], [0.1111111111111111, \"#46039f\"], [0.2222222222222222, \"#7201a8\"], [0.3333333333333333, \"#9c179e\"], [0.4444444444444444, \"#bd3786\"], [0.5555555555555556, \"#d8576b\"], [0.6666666666666666, \"#ed7953\"], [0.7777777777777778, \"#fb9f3a\"], [0.8888888888888888, \"#fdca26\"], [1.0, \"#f0f921\"]], \"type\": \"surface\"}], \"table\": [{\"cells\": {\"fill\": {\"color\": \"#EBF0F8\"}, \"line\": {\"color\": \"white\"}}, \"header\": {\"fill\": {\"color\": \"#C8D4E3\"}, \"line\": {\"color\": \"white\"}}, \"type\": \"table\"}]}, \"layout\": {\"annotationdefaults\": {\"arrowcolor\": \"#2a3f5f\", \"arrowhead\": 0, \"arrowwidth\": 1}, \"coloraxis\": {\"colorbar\": {\"outlinewidth\": 0, \"ticks\": \"\"}}, \"colorscale\": {\"diverging\": [[0, \"#8e0152\"], [0.1, \"#c51b7d\"], [0.2, \"#de77ae\"], [0.3, \"#f1b6da\"], [0.4, \"#fde0ef\"], [0.5, \"#f7f7f7\"], [0.6, \"#e6f5d0\"], [0.7, \"#b8e186\"], [0.8, \"#7fbc41\"], [0.9, \"#4d9221\"], [1, \"#276419\"]], \"sequential\": [[0.0, \"#0d0887\"], [0.1111111111111111, \"#46039f\"], [0.2222222222222222, \"#7201a8\"], [0.3333333333333333, \"#9c179e\"], [0.4444444444444444, \"#bd3786\"], [0.5555555555555556, \"#d8576b\"], [0.6666666666666666, \"#ed7953\"], [0.7777777777777778, \"#fb9f3a\"], [0.8888888888888888, \"#fdca26\"], [1.0, \"#f0f921\"]], \"sequentialminus\": [[0.0, \"#0d0887\"], [0.1111111111111111, \"#46039f\"], [0.2222222222222222, \"#7201a8\"], [0.3333333333333333, \"#9c179e\"], [0.4444444444444444, \"#bd3786\"], [0.5555555555555556, \"#d8576b\"], [0.6666666666666666, \"#ed7953\"], [0.7777777777777778, \"#fb9f3a\"], [0.8888888888888888, \"#fdca26\"], [1.0, \"#f0f921\"]]}, \"colorway\": [\"#636efa\", \"#EF553B\", \"#00cc96\", \"#ab63fa\", \"#FFA15A\", \"#19d3f3\", \"#FF6692\", \"#B6E880\", \"#FF97FF\", \"#FECB52\"], \"font\": {\"color\": \"#2a3f5f\"}, \"geo\": {\"bgcolor\": \"white\", \"lakecolor\": \"white\", \"landcolor\": \"#E5ECF6\", \"showlakes\": true, \"showland\": true, \"subunitcolor\": \"white\"}, \"hoverlabel\": {\"align\": \"left\"}, \"hovermode\": \"closest\", \"mapbox\": {\"style\": \"light\"}, \"paper_bgcolor\": \"white\", \"plot_bgcolor\": \"#E5ECF6\", \"polar\": {\"angularaxis\": {\"gridcolor\": \"white\", \"linecolor\": \"white\", \"ticks\": \"\"}, \"bgcolor\": \"#E5ECF6\", \"radialaxis\": {\"gridcolor\": \"white\", \"linecolor\": \"white\", \"ticks\": \"\"}}, \"scene\": {\"xaxis\": {\"backgroundcolor\": \"#E5ECF6\", \"gridcolor\": \"white\", \"gridwidth\": 2, \"linecolor\": \"white\", \"showbackground\": true, \"ticks\": \"\", \"zerolinecolor\": \"white\"}, \"yaxis\": {\"backgroundcolor\": \"#E5ECF6\", \"gridcolor\": \"white\", \"gridwidth\": 2, \"linecolor\": \"white\", \"showbackground\": true, \"ticks\": \"\", \"zerolinecolor\": \"white\"}, \"zaxis\": {\"backgroundcolor\": \"#E5ECF6\", \"gridcolor\": \"white\", \"gridwidth\": 2, \"linecolor\": \"white\", \"showbackground\": true, \"ticks\": \"\", \"zerolinecolor\": \"white\"}}, \"shapedefaults\": {\"line\": {\"color\": \"#2a3f5f\"}}, \"ternary\": {\"aaxis\": {\"gridcolor\": \"white\", \"linecolor\": \"white\", \"ticks\": \"\"}, \"baxis\": {\"gridcolor\": \"white\", \"linecolor\": \"white\", \"ticks\": \"\"}, \"bgcolor\": \"#E5ECF6\", \"caxis\": {\"gridcolor\": \"white\", \"linecolor\": \"white\", \"ticks\": \"\"}}, \"title\": {\"x\": 0.05}, \"xaxis\": {\"automargin\": true, \"gridcolor\": \"white\", \"linecolor\": \"white\", \"ticks\": \"\", \"title\": {\"standoff\": 15}, \"zerolinecolor\": \"white\", \"zerolinewidth\": 2}, \"yaxis\": {\"automargin\": true, \"gridcolor\": \"white\", \"linecolor\": \"white\", \"ticks\": \"\", \"title\": {\"standoff\": 15}, \"zerolinecolor\": \"white\", \"zerolinewidth\": 2}}}, \"xaxis\": {\"anchor\": \"y\", \"domain\": [0.0, 1.0], \"title\": {\"text\": \"Month\"}, \"type\": \"category\"}, \"yaxis\": {\"anchor\": \"x\", \"domain\": [0.0, 1.0], \"title\": {\"text\": \"Spending\"}}},\n",
       "                        {\"responsive\": true}\n",
       "                    ).then(function(){\n",
       "                            \n",
       "var gd = document.getElementById('e4069ffe-5a5f-4a61-a32e-59797c0248f7');\n",
       "var x = new MutationObserver(function (mutations, observer) {{\n",
       "        var display = window.getComputedStyle(gd).display;\n",
       "        if (!display || display === 'none') {{\n",
       "            console.log([gd, 'removed!']);\n",
       "            Plotly.purge(gd);\n",
       "            observer.disconnect();\n",
       "        }}\n",
       "}});\n",
       "\n",
       "// Listen for the removal of the full notebook cells\n",
       "var notebookContainer = gd.closest('#notebook-container');\n",
       "if (notebookContainer) {{\n",
       "    x.observe(notebookContainer, {childList: true});\n",
       "}}\n",
       "\n",
       "// Listen for the clearing of the current output cell\n",
       "var outputEl = gd.closest('.output');\n",
       "if (outputEl) {{\n",
       "    x.observe(outputEl, {childList: true});\n",
       "}}\n",
       "\n",
       "                        })\n",
       "                };\n",
       "                });\n",
       "            </script>\n",
       "        </div>"
      ]
     },
     "metadata": {},
     "output_type": "display_data"
    }
   ],
   "source": [
    "def make_credit_data(df):\n",
    "    last5mnths = df.ym.drop_duplicates().nlargest(5)\n",
    "    data = df[df.amount < 0].copy()\n",
    "    data = data[data.ym.isin(last5mnths)]\n",
    "    data['amount'] = data.amount * -1\n",
    "    return data\n",
    "\n",
    "def drop_transfers(df):\n",
    "    transfers = (\n",
    "        (df.cat.eq('transfer')) |\n",
    "        (df.merch.str.contains(' pot', na=False))\n",
    "    )\n",
    "    return df[~transfers]\n",
    "\n",
    "\n",
    "cred = (\n",
    "    make_credit_data(df)\n",
    "    .pipe(drop_transfers)\n",
    ")\n",
    "\n",
    "def group_spending(df):    \n",
    "    g = df.groupby(['ym', 'cat'])\n",
    "    fig = (\n",
    "        px.bar(\n",
    "            x=g.ym.first(),\n",
    "            y=g.amount.sum(),\n",
    "            color=g.cat.first()\n",
    "        )\n",
    "        .update_layout(\n",
    "            xaxis_title='Month',\n",
    "            yaxis_title='Spending',\n",
    "            xaxis_type='category',\n",
    "            legend_title_text='Category'\n",
    "#             plot_bgcolor=colors['background'],\n",
    "#             paper_bgcolor=colors['background'],\n",
    "#             font_color=colors['text']\n",
    "        )\n",
    "    )\n",
    "    return fig\n",
    "\n",
    "group_spending(cred)"
   ]
  },
  {
   "cell_type": "code",
   "execution_count": 61,
   "metadata": {},
   "outputs": [
    {
     "data": {
      "text/plain": [
       "ym          cat          \n",
       "2018-11-01  eating out      2018-11-01\n",
       "            general         2018-11-01\n",
       "            groceries       2018-11-01\n",
       "            holidays        2018-11-01\n",
       "            shopping        2018-11-01\n",
       "            transport       2018-11-01\n",
       "2018-12-01  bills           2018-12-01\n",
       "            eating out      2018-12-01\n",
       "            entertainment   2018-12-01\n",
       "            expenses        2018-12-01\n",
       "            finances        2018-12-01\n",
       "            general         2018-12-01\n",
       "            groceries       2018-12-01\n",
       "            holidays        2018-12-01\n",
       "            shopping        2018-12-01\n",
       "            transport       2018-12-01\n",
       "2019-01-01  bills           2019-01-01\n",
       "            eating out      2019-01-01\n",
       "            entertainment   2019-01-01\n",
       "            expenses        2019-01-01\n",
       "            finances        2019-01-01\n",
       "            general         2019-01-01\n",
       "            groceries       2019-01-01\n",
       "            holidays        2019-01-01\n",
       "            personal care   2019-01-01\n",
       "            shopping        2019-01-01\n",
       "            transport       2019-01-01\n",
       "2019-02-01  bills           2019-02-01\n",
       "            eating out      2019-02-01\n",
       "            entertainment   2019-02-01\n",
       "            expenses        2019-02-01\n",
       "            finances        2019-02-01\n",
       "            general         2019-02-01\n",
       "            groceries       2019-02-01\n",
       "            personal care   2019-02-01\n",
       "            shopping        2019-02-01\n",
       "            transport       2019-02-01\n",
       "2019-03-01  bills           2019-03-01\n",
       "            eating out      2019-03-01\n",
       "            entertainment   2019-03-01\n",
       "            expenses        2019-03-01\n",
       "            finances        2019-03-01\n",
       "            general         2019-03-01\n",
       "            groceries       2019-03-01\n",
       "            holidays        2019-03-01\n",
       "            personal care   2019-03-01\n",
       "            shopping        2019-03-01\n",
       "            transport       2019-03-01\n",
       "2019-04-01  bills           2019-04-01\n",
       "            eating out      2019-04-01\n",
       "            entertainment   2019-04-01\n",
       "            expenses        2019-04-01\n",
       "            general         2019-04-01\n",
       "            groceries       2019-04-01\n",
       "            personal care   2019-04-01\n",
       "            shopping        2019-04-01\n",
       "            transport       2019-04-01\n",
       "2019-05-01  bills           2019-05-01\n",
       "            eating out      2019-05-01\n",
       "            entertainment   2019-05-01\n",
       "            expenses        2019-05-01\n",
       "            finances        2019-05-01\n",
       "            general         2019-05-01\n",
       "            groceries       2019-05-01\n",
       "            holidays        2019-05-01\n",
       "            shopping        2019-05-01\n",
       "            transport       2019-05-01\n",
       "2019-06-01  bills           2019-06-01\n",
       "            eating out      2019-06-01\n",
       "            entertainment   2019-06-01\n",
       "            expenses        2019-06-01\n",
       "            general         2019-06-01\n",
       "            groceries       2019-06-01\n",
       "            holidays        2019-06-01\n",
       "            shopping        2019-06-01\n",
       "            transport       2019-06-01\n",
       "2019-07-01  bills           2019-07-01\n",
       "            eating out      2019-07-01\n",
       "            entertainment   2019-07-01\n",
       "            expenses        2019-07-01\n",
       "            general         2019-07-01\n",
       "            groceries       2019-07-01\n",
       "            holidays        2019-07-01\n",
       "            personal care   2019-07-01\n",
       "            shopping        2019-07-01\n",
       "            transport       2019-07-01\n",
       "2019-08-01  bills           2019-08-01\n",
       "            eating out      2019-08-01\n",
       "            entertainment   2019-08-01\n",
       "            expenses        2019-08-01\n",
       "            finances        2019-08-01\n",
       "            general         2019-08-01\n",
       "            groceries       2019-08-01\n",
       "            holidays        2019-08-01\n",
       "            personal care   2019-08-01\n",
       "            shopping        2019-08-01\n",
       "            transport       2019-08-01\n",
       "2019-09-01  bills           2019-09-01\n",
       "            eating out      2019-09-01\n",
       "            entertainment   2019-09-01\n",
       "            expenses        2019-09-01\n",
       "            general         2019-09-01\n",
       "            groceries       2019-09-01\n",
       "            holidays        2019-09-01\n",
       "            personal care   2019-09-01\n",
       "            shopping        2019-09-01\n",
       "            transport       2019-09-01\n",
       "2019-10-01  bills           2019-10-01\n",
       "            eating out      2019-10-01\n",
       "            entertainment   2019-10-01\n",
       "            expenses        2019-10-01\n",
       "            finances        2019-10-01\n",
       "            general         2019-10-01\n",
       "            groceries       2019-10-01\n",
       "            holidays        2019-10-01\n",
       "            personal care   2019-10-01\n",
       "            shopping        2019-10-01\n",
       "            transport       2019-10-01\n",
       "2019-11-01  bills           2019-11-01\n",
       "            eating out      2019-11-01\n",
       "            entertainment   2019-11-01\n",
       "            expenses        2019-11-01\n",
       "            general         2019-11-01\n",
       "            groceries       2019-11-01\n",
       "            holidays        2019-11-01\n",
       "            personal care   2019-11-01\n",
       "            shopping        2019-11-01\n",
       "            transport       2019-11-01\n",
       "2019-12-01  bills           2019-12-01\n",
       "            eating out      2019-12-01\n",
       "            entertainment   2019-12-01\n",
       "            expenses        2019-12-01\n",
       "            finances        2019-12-01\n",
       "            general         2019-12-01\n",
       "            groceries       2019-12-01\n",
       "            holidays        2019-12-01\n",
       "            personal care   2019-12-01\n",
       "            shopping        2019-12-01\n",
       "            transport       2019-12-01\n",
       "2020-01-01  bills           2020-01-01\n",
       "            eating out      2020-01-01\n",
       "            entertainment   2020-01-01\n",
       "            expenses        2020-01-01\n",
       "            finances        2020-01-01\n",
       "            general         2020-01-01\n",
       "            groceries       2020-01-01\n",
       "            personal care   2020-01-01\n",
       "            shopping        2020-01-01\n",
       "            transport       2020-01-01\n",
       "2020-02-01  bills           2020-02-01\n",
       "            eating out      2020-02-01\n",
       "            entertainment   2020-02-01\n",
       "            expenses        2020-02-01\n",
       "            general         2020-02-01\n",
       "            groceries       2020-02-01\n",
       "            holidays        2020-02-01\n",
       "            personal care   2020-02-01\n",
       "            shopping        2020-02-01\n",
       "            transport       2020-02-01\n",
       "2020-03-01  bills           2020-03-01\n",
       "            eating out      2020-03-01\n",
       "            entertainment   2020-03-01\n",
       "            expenses        2020-03-01\n",
       "            general         2020-03-01\n",
       "            groceries       2020-03-01\n",
       "            personal care   2020-03-01\n",
       "            transport       2020-03-01\n",
       "2020-04-01  bills           2020-04-01\n",
       "            entertainment   2020-04-01\n",
       "            expenses        2020-04-01\n",
       "            general         2020-04-01\n",
       "            personal care   2020-04-01\n",
       "2020-05-01  bills           2020-05-01\n",
       "            eating out      2020-05-01\n",
       "            entertainment   2020-05-01\n",
       "            expenses        2020-05-01\n",
       "            general         2020-05-01\n",
       "            groceries       2020-05-01\n",
       "            personal care   2020-05-01\n",
       "            shopping        2020-05-01\n",
       "2020-06-01  bills           2020-06-01\n",
       "            entertainment   2020-06-01\n",
       "            expenses        2020-06-01\n",
       "            general         2020-06-01\n",
       "            holidays        2020-06-01\n",
       "            personal care   2020-06-01\n",
       "            shopping        2020-06-01\n",
       "            transport       2020-06-01\n",
       "2020-07-01  bills           2020-07-01\n",
       "            entertainment   2020-07-01\n",
       "            expenses        2020-07-01\n",
       "            general         2020-07-01\n",
       "            groceries       2020-07-01\n",
       "            health          2020-07-01\n",
       "            personal care   2020-07-01\n",
       "            shopping        2020-07-01\n",
       "            subscriptions   2020-07-01\n",
       "            transport       2020-07-01\n",
       "2020-08-01  bills           2020-08-01\n",
       "            eating out      2020-08-01\n",
       "            entertainment   2020-08-01\n",
       "            fees            2020-08-01\n",
       "            general         2020-08-01\n",
       "            groceries       2020-08-01\n",
       "            health          2020-08-01\n",
       "            holidays        2020-08-01\n",
       "            income          2020-08-01\n",
       "            subscriptions   2020-08-01\n",
       "            transfer        2020-08-01\n",
       "            transport       2020-08-01\n",
       "Name: ym, dtype: datetime64[ns]"
      ]
     },
     "execution_count": 61,
     "metadata": {},
     "output_type": "execute_result"
    }
   ],
   "source": [
    "g = df.groupby(['ym', 'cat'])\n",
    "\n",
    "g.ym.first()\n",
    "\n",
    "# .agg({'ym': ['first'], 'amount': 'sum'})"
   ]
  },
  {
   "cell_type": "markdown",
   "metadata": {},
   "source": [
    "# Resources\n",
    "\n",
    "- Using Plotly for Jupyter Lab and Fastpages ([link](https://colab.research.google.com/github/binnisb/blog/blob/master/_notebooks/2020-04-02-Plotly-in-lab.ipynb#scrollTo=TWW5ogvQPEk1))"
   ]
  },
  {
   "cell_type": "code",
   "execution_count": null,
   "metadata": {},
   "outputs": [],
   "source": []
  }
 ],
 "metadata": {
  "kernelspec": {
   "display_name": "habits",
   "language": "python",
   "name": "habits"
  },
  "language_info": {
   "codemirror_mode": {
    "name": "ipython",
    "version": 3
   },
   "file_extension": ".py",
   "mimetype": "text/x-python",
   "name": "python",
   "nbconvert_exporter": "python",
   "pygments_lexer": "ipython3",
   "version": "3.7.7"
  }
 },
 "nbformat": 4,
 "nbformat_minor": 4
}
